{
  "nbformat": 4,
  "nbformat_minor": 0,
  "metadata": {
    "colab": {
      "provenance": []
    },
    "kernelspec": {
      "name": "python3",
      "display_name": "Python 3"
    },
    "language_info": {
      "name": "python"
    }
  },
  "cells": [
    {
      "cell_type": "markdown",
      "source": [
        "# Actividad - Estadística básica"
      ],
      "metadata": {
        "id": "Zlev5tghCy2G"
      }
    },
    {
      "cell_type": "markdown",
      "source": [
        "* **Nombre:** Diego Alfonso Ramírez Montes\n",
        "* **Matrícula:** A01707596"
      ],
      "metadata": {
        "id": "UzLPBnd5C4xy"
      }
    },
    {
      "cell_type": "markdown",
      "source": [
        "**Entregar:** Archivo PDF de la actividad, así como el archivo .ipynb en tu repositorio.\n",
        "**Nota:** Recuerda habrá una penalización de **50** puntos si la actividad fue entregada fuera de la fecha límite."
      ],
      "metadata": {
        "id": "CIeakL6CDCTC"
      }
    },
    {
      "cell_type": "markdown",
      "source": [
        "Carga el conjunto de datos `insurance.csv` (se encuentra en el repositorio de la clase) y realiza un análisis estadístico de las variables."
      ],
      "metadata": {
        "id": "tU8Hn1jdDNTc"
      }
    },
    {
      "cell_type": "code",
      "source": [
        "# Carga las librerías necesarias.\n",
        "import pandas as pd\n",
        "import numpy as np\n",
        "import random"
      ],
      "metadata": {
        "id": "7ehdNB9iDBi7"
      },
      "execution_count": 9,
      "outputs": []
    },
    {
      "cell_type": "code",
      "source": [
        "# Carga el conjunto de datos al ambiente de Google Colab y muestra los primeros\n",
        "# 6 renglones.\n",
        "from google.colab import files\n",
        "uploaded = files.upload()\n",
        "df = pd.read_csv('insurance.csv')\n",
        "df.head(6)"
      ],
      "metadata": {
        "id": "vvPwkAtkDasd",
        "colab": {
          "base_uri": "https://localhost:8080/",
          "height": 293
        },
        "outputId": "ace7e130-db59-4ed9-cf06-a9ce3b49139a"
      },
      "execution_count": 11,
      "outputs": [
        {
          "output_type": "display_data",
          "data": {
            "text/plain": [
              "<IPython.core.display.HTML object>"
            ],
            "text/html": [
              "\n",
              "     <input type=\"file\" id=\"files-e0c11a34-3c76-4d8c-8b54-9d1b4e0cc729\" name=\"files[]\" multiple disabled\n",
              "        style=\"border:none\" />\n",
              "     <output id=\"result-e0c11a34-3c76-4d8c-8b54-9d1b4e0cc729\">\n",
              "      Upload widget is only available when the cell has been executed in the\n",
              "      current browser session. Please rerun this cell to enable.\n",
              "      </output>\n",
              "      <script>// Copyright 2017 Google LLC\n",
              "//\n",
              "// Licensed under the Apache License, Version 2.0 (the \"License\");\n",
              "// you may not use this file except in compliance with the License.\n",
              "// You may obtain a copy of the License at\n",
              "//\n",
              "//      http://www.apache.org/licenses/LICENSE-2.0\n",
              "//\n",
              "// Unless required by applicable law or agreed to in writing, software\n",
              "// distributed under the License is distributed on an \"AS IS\" BASIS,\n",
              "// WITHOUT WARRANTIES OR CONDITIONS OF ANY KIND, either express or implied.\n",
              "// See the License for the specific language governing permissions and\n",
              "// limitations under the License.\n",
              "\n",
              "/**\n",
              " * @fileoverview Helpers for google.colab Python module.\n",
              " */\n",
              "(function(scope) {\n",
              "function span(text, styleAttributes = {}) {\n",
              "  const element = document.createElement('span');\n",
              "  element.textContent = text;\n",
              "  for (const key of Object.keys(styleAttributes)) {\n",
              "    element.style[key] = styleAttributes[key];\n",
              "  }\n",
              "  return element;\n",
              "}\n",
              "\n",
              "// Max number of bytes which will be uploaded at a time.\n",
              "const MAX_PAYLOAD_SIZE = 100 * 1024;\n",
              "\n",
              "function _uploadFiles(inputId, outputId) {\n",
              "  const steps = uploadFilesStep(inputId, outputId);\n",
              "  const outputElement = document.getElementById(outputId);\n",
              "  // Cache steps on the outputElement to make it available for the next call\n",
              "  // to uploadFilesContinue from Python.\n",
              "  outputElement.steps = steps;\n",
              "\n",
              "  return _uploadFilesContinue(outputId);\n",
              "}\n",
              "\n",
              "// This is roughly an async generator (not supported in the browser yet),\n",
              "// where there are multiple asynchronous steps and the Python side is going\n",
              "// to poll for completion of each step.\n",
              "// This uses a Promise to block the python side on completion of each step,\n",
              "// then passes the result of the previous step as the input to the next step.\n",
              "function _uploadFilesContinue(outputId) {\n",
              "  const outputElement = document.getElementById(outputId);\n",
              "  const steps = outputElement.steps;\n",
              "\n",
              "  const next = steps.next(outputElement.lastPromiseValue);\n",
              "  return Promise.resolve(next.value.promise).then((value) => {\n",
              "    // Cache the last promise value to make it available to the next\n",
              "    // step of the generator.\n",
              "    outputElement.lastPromiseValue = value;\n",
              "    return next.value.response;\n",
              "  });\n",
              "}\n",
              "\n",
              "/**\n",
              " * Generator function which is called between each async step of the upload\n",
              " * process.\n",
              " * @param {string} inputId Element ID of the input file picker element.\n",
              " * @param {string} outputId Element ID of the output display.\n",
              " * @return {!Iterable<!Object>} Iterable of next steps.\n",
              " */\n",
              "function* uploadFilesStep(inputId, outputId) {\n",
              "  const inputElement = document.getElementById(inputId);\n",
              "  inputElement.disabled = false;\n",
              "\n",
              "  const outputElement = document.getElementById(outputId);\n",
              "  outputElement.innerHTML = '';\n",
              "\n",
              "  const pickedPromise = new Promise((resolve) => {\n",
              "    inputElement.addEventListener('change', (e) => {\n",
              "      resolve(e.target.files);\n",
              "    });\n",
              "  });\n",
              "\n",
              "  const cancel = document.createElement('button');\n",
              "  inputElement.parentElement.appendChild(cancel);\n",
              "  cancel.textContent = 'Cancel upload';\n",
              "  const cancelPromise = new Promise((resolve) => {\n",
              "    cancel.onclick = () => {\n",
              "      resolve(null);\n",
              "    };\n",
              "  });\n",
              "\n",
              "  // Wait for the user to pick the files.\n",
              "  const files = yield {\n",
              "    promise: Promise.race([pickedPromise, cancelPromise]),\n",
              "    response: {\n",
              "      action: 'starting',\n",
              "    }\n",
              "  };\n",
              "\n",
              "  cancel.remove();\n",
              "\n",
              "  // Disable the input element since further picks are not allowed.\n",
              "  inputElement.disabled = true;\n",
              "\n",
              "  if (!files) {\n",
              "    return {\n",
              "      response: {\n",
              "        action: 'complete',\n",
              "      }\n",
              "    };\n",
              "  }\n",
              "\n",
              "  for (const file of files) {\n",
              "    const li = document.createElement('li');\n",
              "    li.append(span(file.name, {fontWeight: 'bold'}));\n",
              "    li.append(span(\n",
              "        `(${file.type || 'n/a'}) - ${file.size} bytes, ` +\n",
              "        `last modified: ${\n",
              "            file.lastModifiedDate ? file.lastModifiedDate.toLocaleDateString() :\n",
              "                                    'n/a'} - `));\n",
              "    const percent = span('0% done');\n",
              "    li.appendChild(percent);\n",
              "\n",
              "    outputElement.appendChild(li);\n",
              "\n",
              "    const fileDataPromise = new Promise((resolve) => {\n",
              "      const reader = new FileReader();\n",
              "      reader.onload = (e) => {\n",
              "        resolve(e.target.result);\n",
              "      };\n",
              "      reader.readAsArrayBuffer(file);\n",
              "    });\n",
              "    // Wait for the data to be ready.\n",
              "    let fileData = yield {\n",
              "      promise: fileDataPromise,\n",
              "      response: {\n",
              "        action: 'continue',\n",
              "      }\n",
              "    };\n",
              "\n",
              "    // Use a chunked sending to avoid message size limits. See b/62115660.\n",
              "    let position = 0;\n",
              "    do {\n",
              "      const length = Math.min(fileData.byteLength - position, MAX_PAYLOAD_SIZE);\n",
              "      const chunk = new Uint8Array(fileData, position, length);\n",
              "      position += length;\n",
              "\n",
              "      const base64 = btoa(String.fromCharCode.apply(null, chunk));\n",
              "      yield {\n",
              "        response: {\n",
              "          action: 'append',\n",
              "          file: file.name,\n",
              "          data: base64,\n",
              "        },\n",
              "      };\n",
              "\n",
              "      let percentDone = fileData.byteLength === 0 ?\n",
              "          100 :\n",
              "          Math.round((position / fileData.byteLength) * 100);\n",
              "      percent.textContent = `${percentDone}% done`;\n",
              "\n",
              "    } while (position < fileData.byteLength);\n",
              "  }\n",
              "\n",
              "  // All done.\n",
              "  yield {\n",
              "    response: {\n",
              "      action: 'complete',\n",
              "    }\n",
              "  };\n",
              "}\n",
              "\n",
              "scope.google = scope.google || {};\n",
              "scope.google.colab = scope.google.colab || {};\n",
              "scope.google.colab._files = {\n",
              "  _uploadFiles,\n",
              "  _uploadFilesContinue,\n",
              "};\n",
              "})(self);\n",
              "</script> "
            ]
          },
          "metadata": {}
        },
        {
          "output_type": "stream",
          "name": "stdout",
          "text": [
            "Saving insurance.csv to insurance (3).csv\n"
          ]
        },
        {
          "output_type": "execute_result",
          "data": {
            "text/plain": [
              "   age     sex     bmi  children smoker     region      charges\n",
              "0   19  female  27.900         0    yes  southwest  16884.92400\n",
              "1   18    male  33.770         1     no  southeast   1725.55230\n",
              "2   28    male  33.000         3     no  southeast   4449.46200\n",
              "3   33    male  22.705         0     no  northwest  21984.47061\n",
              "4   32    male  28.880         0     no  northwest   3866.85520\n",
              "5   31  female  25.740         0     no  southeast   3756.62160"
            ],
            "text/html": [
              "\n",
              "  <div id=\"df-b05f0790-1c64-4020-b898-a678547c8d07\">\n",
              "    <div class=\"colab-df-container\">\n",
              "      <div>\n",
              "<style scoped>\n",
              "    .dataframe tbody tr th:only-of-type {\n",
              "        vertical-align: middle;\n",
              "    }\n",
              "\n",
              "    .dataframe tbody tr th {\n",
              "        vertical-align: top;\n",
              "    }\n",
              "\n",
              "    .dataframe thead th {\n",
              "        text-align: right;\n",
              "    }\n",
              "</style>\n",
              "<table border=\"1\" class=\"dataframe\">\n",
              "  <thead>\n",
              "    <tr style=\"text-align: right;\">\n",
              "      <th></th>\n",
              "      <th>age</th>\n",
              "      <th>sex</th>\n",
              "      <th>bmi</th>\n",
              "      <th>children</th>\n",
              "      <th>smoker</th>\n",
              "      <th>region</th>\n",
              "      <th>charges</th>\n",
              "    </tr>\n",
              "  </thead>\n",
              "  <tbody>\n",
              "    <tr>\n",
              "      <th>0</th>\n",
              "      <td>19</td>\n",
              "      <td>female</td>\n",
              "      <td>27.900</td>\n",
              "      <td>0</td>\n",
              "      <td>yes</td>\n",
              "      <td>southwest</td>\n",
              "      <td>16884.92400</td>\n",
              "    </tr>\n",
              "    <tr>\n",
              "      <th>1</th>\n",
              "      <td>18</td>\n",
              "      <td>male</td>\n",
              "      <td>33.770</td>\n",
              "      <td>1</td>\n",
              "      <td>no</td>\n",
              "      <td>southeast</td>\n",
              "      <td>1725.55230</td>\n",
              "    </tr>\n",
              "    <tr>\n",
              "      <th>2</th>\n",
              "      <td>28</td>\n",
              "      <td>male</td>\n",
              "      <td>33.000</td>\n",
              "      <td>3</td>\n",
              "      <td>no</td>\n",
              "      <td>southeast</td>\n",
              "      <td>4449.46200</td>\n",
              "    </tr>\n",
              "    <tr>\n",
              "      <th>3</th>\n",
              "      <td>33</td>\n",
              "      <td>male</td>\n",
              "      <td>22.705</td>\n",
              "      <td>0</td>\n",
              "      <td>no</td>\n",
              "      <td>northwest</td>\n",
              "      <td>21984.47061</td>\n",
              "    </tr>\n",
              "    <tr>\n",
              "      <th>4</th>\n",
              "      <td>32</td>\n",
              "      <td>male</td>\n",
              "      <td>28.880</td>\n",
              "      <td>0</td>\n",
              "      <td>no</td>\n",
              "      <td>northwest</td>\n",
              "      <td>3866.85520</td>\n",
              "    </tr>\n",
              "    <tr>\n",
              "      <th>5</th>\n",
              "      <td>31</td>\n",
              "      <td>female</td>\n",
              "      <td>25.740</td>\n",
              "      <td>0</td>\n",
              "      <td>no</td>\n",
              "      <td>southeast</td>\n",
              "      <td>3756.62160</td>\n",
              "    </tr>\n",
              "  </tbody>\n",
              "</table>\n",
              "</div>\n",
              "      <button class=\"colab-df-convert\" onclick=\"convertToInteractive('df-b05f0790-1c64-4020-b898-a678547c8d07')\"\n",
              "              title=\"Convert this dataframe to an interactive table.\"\n",
              "              style=\"display:none;\">\n",
              "        \n",
              "  <svg xmlns=\"http://www.w3.org/2000/svg\" height=\"24px\"viewBox=\"0 0 24 24\"\n",
              "       width=\"24px\">\n",
              "    <path d=\"M0 0h24v24H0V0z\" fill=\"none\"/>\n",
              "    <path d=\"M18.56 5.44l.94 2.06.94-2.06 2.06-.94-2.06-.94-.94-2.06-.94 2.06-2.06.94zm-11 1L8.5 8.5l.94-2.06 2.06-.94-2.06-.94L8.5 2.5l-.94 2.06-2.06.94zm10 10l.94 2.06.94-2.06 2.06-.94-2.06-.94-.94-2.06-.94 2.06-2.06.94z\"/><path d=\"M17.41 7.96l-1.37-1.37c-.4-.4-.92-.59-1.43-.59-.52 0-1.04.2-1.43.59L10.3 9.45l-7.72 7.72c-.78.78-.78 2.05 0 2.83L4 21.41c.39.39.9.59 1.41.59.51 0 1.02-.2 1.41-.59l7.78-7.78 2.81-2.81c.8-.78.8-2.07 0-2.86zM5.41 20L4 18.59l7.72-7.72 1.47 1.35L5.41 20z\"/>\n",
              "  </svg>\n",
              "      </button>\n",
              "      \n",
              "  <style>\n",
              "    .colab-df-container {\n",
              "      display:flex;\n",
              "      flex-wrap:wrap;\n",
              "      gap: 12px;\n",
              "    }\n",
              "\n",
              "    .colab-df-convert {\n",
              "      background-color: #E8F0FE;\n",
              "      border: none;\n",
              "      border-radius: 50%;\n",
              "      cursor: pointer;\n",
              "      display: none;\n",
              "      fill: #1967D2;\n",
              "      height: 32px;\n",
              "      padding: 0 0 0 0;\n",
              "      width: 32px;\n",
              "    }\n",
              "\n",
              "    .colab-df-convert:hover {\n",
              "      background-color: #E2EBFA;\n",
              "      box-shadow: 0px 1px 2px rgba(60, 64, 67, 0.3), 0px 1px 3px 1px rgba(60, 64, 67, 0.15);\n",
              "      fill: #174EA6;\n",
              "    }\n",
              "\n",
              "    [theme=dark] .colab-df-convert {\n",
              "      background-color: #3B4455;\n",
              "      fill: #D2E3FC;\n",
              "    }\n",
              "\n",
              "    [theme=dark] .colab-df-convert:hover {\n",
              "      background-color: #434B5C;\n",
              "      box-shadow: 0px 1px 3px 1px rgba(0, 0, 0, 0.15);\n",
              "      filter: drop-shadow(0px 1px 2px rgba(0, 0, 0, 0.3));\n",
              "      fill: #FFFFFF;\n",
              "    }\n",
              "  </style>\n",
              "\n",
              "      <script>\n",
              "        const buttonEl =\n",
              "          document.querySelector('#df-b05f0790-1c64-4020-b898-a678547c8d07 button.colab-df-convert');\n",
              "        buttonEl.style.display =\n",
              "          google.colab.kernel.accessAllowed ? 'block' : 'none';\n",
              "\n",
              "        async function convertToInteractive(key) {\n",
              "          const element = document.querySelector('#df-b05f0790-1c64-4020-b898-a678547c8d07');\n",
              "          const dataTable =\n",
              "            await google.colab.kernel.invokeFunction('convertToInteractive',\n",
              "                                                     [key], {});\n",
              "          if (!dataTable) return;\n",
              "\n",
              "          const docLinkHtml = 'Like what you see? Visit the ' +\n",
              "            '<a target=\"_blank\" href=https://colab.research.google.com/notebooks/data_table.ipynb>data table notebook</a>'\n",
              "            + ' to learn more about interactive tables.';\n",
              "          element.innerHTML = '';\n",
              "          dataTable['output_type'] = 'display_data';\n",
              "          await google.colab.output.renderOutput(dataTable, element);\n",
              "          const docLink = document.createElement('div');\n",
              "          docLink.innerHTML = docLinkHtml;\n",
              "          element.appendChild(docLink);\n",
              "        }\n",
              "      </script>\n",
              "    </div>\n",
              "  </div>\n",
              "  "
            ]
          },
          "metadata": {},
          "execution_count": 11
        }
      ]
    },
    {
      "cell_type": "markdown",
      "source": [
        "El conjunto de datos contiene información demográfica sobre los asegurados en una compañía de seguros:\n",
        "* **age**: Edad del asegurado principal\n",
        "* **sex**: Género del asegurado. female o male\n",
        "* **bmi**: Índice de masa corporal\n",
        "* **children**: Número de hijos que estan cubiertos con la poliza. \n",
        "* **smoke**: ¿El beneficiario fuma? (*yes*/*no*)\n",
        "* **region**: ¿Dónde vive el beneficiario? Estos datos son de Estados Unidos. Regiones disponibles: northeast, southeast, southwest, northwest\n",
        "* **charges**: Costo del seguro."
      ],
      "metadata": {
        "id": "HjeUwH4QE7QZ"
      }
    },
    {
      "cell_type": "code",
      "source": [
        "# Crea una tabla resumen con los estadísticas generales de las variables\n",
        "# numéricas.\n",
        "df.describe()"
      ],
      "metadata": {
        "id": "5dD7I6aKDej4",
        "colab": {
          "base_uri": "https://localhost:8080/",
          "height": 300
        },
        "outputId": "b5761657-10b9-4d71-d75f-97e851cb301b"
      },
      "execution_count": 4,
      "outputs": [
        {
          "output_type": "execute_result",
          "data": {
            "text/plain": [
              "               age          bmi     children       charges\n",
              "count  1338.000000  1338.000000  1338.000000   1338.000000\n",
              "mean     39.207025    30.663397     1.094918  13270.422265\n",
              "std      14.049960     6.098187     1.205493  12110.011237\n",
              "min      18.000000    15.960000     0.000000   1121.873900\n",
              "25%      27.000000    26.296250     0.000000   4740.287150\n",
              "50%      39.000000    30.400000     1.000000   9382.033000\n",
              "75%      51.000000    34.693750     2.000000  16639.912515\n",
              "max      64.000000    53.130000     5.000000  63770.428010"
            ],
            "text/html": [
              "\n",
              "  <div id=\"df-580d7a99-62ff-4073-8f59-94a4c101f62b\">\n",
              "    <div class=\"colab-df-container\">\n",
              "      <div>\n",
              "<style scoped>\n",
              "    .dataframe tbody tr th:only-of-type {\n",
              "        vertical-align: middle;\n",
              "    }\n",
              "\n",
              "    .dataframe tbody tr th {\n",
              "        vertical-align: top;\n",
              "    }\n",
              "\n",
              "    .dataframe thead th {\n",
              "        text-align: right;\n",
              "    }\n",
              "</style>\n",
              "<table border=\"1\" class=\"dataframe\">\n",
              "  <thead>\n",
              "    <tr style=\"text-align: right;\">\n",
              "      <th></th>\n",
              "      <th>age</th>\n",
              "      <th>bmi</th>\n",
              "      <th>children</th>\n",
              "      <th>charges</th>\n",
              "    </tr>\n",
              "  </thead>\n",
              "  <tbody>\n",
              "    <tr>\n",
              "      <th>count</th>\n",
              "      <td>1338.000000</td>\n",
              "      <td>1338.000000</td>\n",
              "      <td>1338.000000</td>\n",
              "      <td>1338.000000</td>\n",
              "    </tr>\n",
              "    <tr>\n",
              "      <th>mean</th>\n",
              "      <td>39.207025</td>\n",
              "      <td>30.663397</td>\n",
              "      <td>1.094918</td>\n",
              "      <td>13270.422265</td>\n",
              "    </tr>\n",
              "    <tr>\n",
              "      <th>std</th>\n",
              "      <td>14.049960</td>\n",
              "      <td>6.098187</td>\n",
              "      <td>1.205493</td>\n",
              "      <td>12110.011237</td>\n",
              "    </tr>\n",
              "    <tr>\n",
              "      <th>min</th>\n",
              "      <td>18.000000</td>\n",
              "      <td>15.960000</td>\n",
              "      <td>0.000000</td>\n",
              "      <td>1121.873900</td>\n",
              "    </tr>\n",
              "    <tr>\n",
              "      <th>25%</th>\n",
              "      <td>27.000000</td>\n",
              "      <td>26.296250</td>\n",
              "      <td>0.000000</td>\n",
              "      <td>4740.287150</td>\n",
              "    </tr>\n",
              "    <tr>\n",
              "      <th>50%</th>\n",
              "      <td>39.000000</td>\n",
              "      <td>30.400000</td>\n",
              "      <td>1.000000</td>\n",
              "      <td>9382.033000</td>\n",
              "    </tr>\n",
              "    <tr>\n",
              "      <th>75%</th>\n",
              "      <td>51.000000</td>\n",
              "      <td>34.693750</td>\n",
              "      <td>2.000000</td>\n",
              "      <td>16639.912515</td>\n",
              "    </tr>\n",
              "    <tr>\n",
              "      <th>max</th>\n",
              "      <td>64.000000</td>\n",
              "      <td>53.130000</td>\n",
              "      <td>5.000000</td>\n",
              "      <td>63770.428010</td>\n",
              "    </tr>\n",
              "  </tbody>\n",
              "</table>\n",
              "</div>\n",
              "      <button class=\"colab-df-convert\" onclick=\"convertToInteractive('df-580d7a99-62ff-4073-8f59-94a4c101f62b')\"\n",
              "              title=\"Convert this dataframe to an interactive table.\"\n",
              "              style=\"display:none;\">\n",
              "        \n",
              "  <svg xmlns=\"http://www.w3.org/2000/svg\" height=\"24px\"viewBox=\"0 0 24 24\"\n",
              "       width=\"24px\">\n",
              "    <path d=\"M0 0h24v24H0V0z\" fill=\"none\"/>\n",
              "    <path d=\"M18.56 5.44l.94 2.06.94-2.06 2.06-.94-2.06-.94-.94-2.06-.94 2.06-2.06.94zm-11 1L8.5 8.5l.94-2.06 2.06-.94-2.06-.94L8.5 2.5l-.94 2.06-2.06.94zm10 10l.94 2.06.94-2.06 2.06-.94-2.06-.94-.94-2.06-.94 2.06-2.06.94z\"/><path d=\"M17.41 7.96l-1.37-1.37c-.4-.4-.92-.59-1.43-.59-.52 0-1.04.2-1.43.59L10.3 9.45l-7.72 7.72c-.78.78-.78 2.05 0 2.83L4 21.41c.39.39.9.59 1.41.59.51 0 1.02-.2 1.41-.59l7.78-7.78 2.81-2.81c.8-.78.8-2.07 0-2.86zM5.41 20L4 18.59l7.72-7.72 1.47 1.35L5.41 20z\"/>\n",
              "  </svg>\n",
              "      </button>\n",
              "      \n",
              "  <style>\n",
              "    .colab-df-container {\n",
              "      display:flex;\n",
              "      flex-wrap:wrap;\n",
              "      gap: 12px;\n",
              "    }\n",
              "\n",
              "    .colab-df-convert {\n",
              "      background-color: #E8F0FE;\n",
              "      border: none;\n",
              "      border-radius: 50%;\n",
              "      cursor: pointer;\n",
              "      display: none;\n",
              "      fill: #1967D2;\n",
              "      height: 32px;\n",
              "      padding: 0 0 0 0;\n",
              "      width: 32px;\n",
              "    }\n",
              "\n",
              "    .colab-df-convert:hover {\n",
              "      background-color: #E2EBFA;\n",
              "      box-shadow: 0px 1px 2px rgba(60, 64, 67, 0.3), 0px 1px 3px 1px rgba(60, 64, 67, 0.15);\n",
              "      fill: #174EA6;\n",
              "    }\n",
              "\n",
              "    [theme=dark] .colab-df-convert {\n",
              "      background-color: #3B4455;\n",
              "      fill: #D2E3FC;\n",
              "    }\n",
              "\n",
              "    [theme=dark] .colab-df-convert:hover {\n",
              "      background-color: #434B5C;\n",
              "      box-shadow: 0px 1px 3px 1px rgba(0, 0, 0, 0.15);\n",
              "      filter: drop-shadow(0px 1px 2px rgba(0, 0, 0, 0.3));\n",
              "      fill: #FFFFFF;\n",
              "    }\n",
              "  </style>\n",
              "\n",
              "      <script>\n",
              "        const buttonEl =\n",
              "          document.querySelector('#df-580d7a99-62ff-4073-8f59-94a4c101f62b button.colab-df-convert');\n",
              "        buttonEl.style.display =\n",
              "          google.colab.kernel.accessAllowed ? 'block' : 'none';\n",
              "\n",
              "        async function convertToInteractive(key) {\n",
              "          const element = document.querySelector('#df-580d7a99-62ff-4073-8f59-94a4c101f62b');\n",
              "          const dataTable =\n",
              "            await google.colab.kernel.invokeFunction('convertToInteractive',\n",
              "                                                     [key], {});\n",
              "          if (!dataTable) return;\n",
              "\n",
              "          const docLinkHtml = 'Like what you see? Visit the ' +\n",
              "            '<a target=\"_blank\" href=https://colab.research.google.com/notebooks/data_table.ipynb>data table notebook</a>'\n",
              "            + ' to learn more about interactive tables.';\n",
              "          element.innerHTML = '';\n",
              "          dataTable['output_type'] = 'display_data';\n",
              "          await google.colab.output.renderOutput(dataTable, element);\n",
              "          const docLink = document.createElement('div');\n",
              "          docLink.innerHTML = docLinkHtml;\n",
              "          element.appendChild(docLink);\n",
              "        }\n",
              "      </script>\n",
              "    </div>\n",
              "  </div>\n",
              "  "
            ]
          },
          "metadata": {},
          "execution_count": 4
        }
      ]
    },
    {
      "cell_type": "code",
      "source": [
        "# ¿Cómo se correlacionan las varaibles numéricas entre sí?"
      ],
      "metadata": {
        "id": "pZUxcJb9EEQn"
      },
      "execution_count": null,
      "outputs": []
    },
    {
      "cell_type": "code",
      "source": [
        "# Determina si existe o no una correlación entre el índice de masa corporal \n",
        "# (bmi) y el costo del seguro.\n",
        "np.corrcoef(df.bmi, df.charges)[0,1]"
      ],
      "metadata": {
        "id": "QcsqHm1iFmFX",
        "colab": {
          "base_uri": "https://localhost:8080/"
        },
        "outputId": "729af080-39c1-49fe-a208-d81c42d6c2a8"
      },
      "execution_count": 5,
      "outputs": [
        {
          "output_type": "execute_result",
          "data": {
            "text/plain": [
              "0.19834096883362895"
            ]
          },
          "metadata": {},
          "execution_count": 5
        }
      ]
    },
    {
      "cell_type": "markdown",
      "source": [
        "Dado que el coeficiente de correlación entre las variables del índice de masa corporal y el costo del seguro es un número muy cercano a 0, podemos decir con seguridad que no existe correlación entre ambos datos."
      ],
      "metadata": {
        "id": "3WxsQW-EtIfg"
      }
    },
    {
      "cell_type": "code",
      "source": [
        "# ¿Cuántas personas aseguradas son hombre y cuántas son mujeres?\n",
        "print(\"Hay: \" + str(len(df[df.sex == \"male\"])) + \" hombres asegurados.\")\n",
        "print(\"Hay: \" + str(len(df[df.sex == \"female\"])) + \" mujeres aseguradas.\")"
      ],
      "metadata": {
        "id": "oHueQgzsEm5V",
        "colab": {
          "base_uri": "https://localhost:8080/"
        },
        "outputId": "f0f222af-da25-46dc-f59d-8e1cd80caad3"
      },
      "execution_count": 8,
      "outputs": [
        {
          "output_type": "stream",
          "name": "stdout",
          "text": [
            "Hay: 676 hombres asegurados.\n",
            "Hay: 662 mujeres aseguradas.\n"
          ]
        }
      ]
    },
    {
      "cell_type": "code",
      "source": [
        "# ¿Cuántos hombres y mujeres asegurados viven en cada región?\n",
        "r = (df[\"region\"].unique())\n",
        "for i in range(len(r)):\n",
        "  dfm = pd.DataFrame(df[['region', 'sex']])\n",
        "  dfm = dfm[dfm.region == str(r[i])]\n",
        "  print(\"Hay \" + str(len(dfm[dfm.sex == 'male'])) + \" hombres asegurados en la region \" + str(r[i]))\n",
        "  print(\"Hay \" + str(len(dfm[dfm.sex == 'female'])) + \" mujeres aseguradas en la region \" + str(r[i]))"
      ],
      "metadata": {
        "id": "lJs6pUN0FvUn",
        "colab": {
          "base_uri": "https://localhost:8080/"
        },
        "outputId": "22723e4f-b57e-4688-8bf6-1ab3178d5d47"
      },
      "execution_count": 68,
      "outputs": [
        {
          "output_type": "stream",
          "name": "stdout",
          "text": [
            "Hay 163 hombres asegurados en la region southwest\n",
            "Hay 162 mujeres aseguradas en la region southwest\n",
            "Hay 189 hombres asegurados en la region southeast\n",
            "Hay 175 mujeres aseguradas en la region southeast\n",
            "Hay 161 hombres asegurados en la region northwest\n",
            "Hay 164 mujeres aseguradas en la region northwest\n",
            "Hay 163 hombres asegurados en la region northeast\n",
            "Hay 161 mujeres aseguradas en la region northeast\n"
          ]
        }
      ]
    },
    {
      "cell_type": "code",
      "source": [
        "# En promedio, ¿quién paga más de cuota de seguro? ¿Los fumadores o los no \n",
        "# fumadores? Muéstralo con los datos.\n",
        "dfn = pd.DataFrame(df[['smoker', 'charges']])\n",
        "dff = dfn[dfn.smoker == \"yes\"]\n",
        "sorted = dff['charges'].sort_values()\n",
        "sorted = sorted.reset_index(drop = True)\n",
        "p = 5\n",
        "acum = sum(sorted.values.flatten()[p:len(dff['charges'])-p])\n",
        "croppedMean = acum / (len(sorted) - (2 * p))\n",
        "print(\"Los fumadores pagan: \" + str(croppedMean) + \" en promedio de seguro.\")\n",
        "df1 = pd.DataFrame(df[['smoker', 'charges']])\n",
        "df2 = dfn[dfn.smoker == \"no\"]\n",
        "sort = df2['charges'].sort_values()\n",
        "sort = sort.reset_index(drop = True)\n",
        "acu = sum(sorted.values.flatten()[p:len(df2['charges'])-p])\n",
        "croppedMean = acu / (len(sort) - (2 * p))\n",
        "print(\"Los no fumadores pagan: \" + str(croppedMean) + \" en promedio de seguro.\")"
      ],
      "metadata": {
        "id": "1HPo_9jUF2Zo",
        "colab": {
          "base_uri": "https://localhost:8080/"
        },
        "outputId": "9a8e013d-1ece-4dab-c2b7-1d2154592629"
      },
      "execution_count": 32,
      "outputs": [
        {
          "output_type": "stream",
          "name": "stdout",
          "text": [
            "Los fumadores pagan: 31865.573516287877 en promedio de seguro.\n",
            "Los no fumadores pagan: 8266.22636142315 en promedio de seguro.\n"
          ]
        }
      ]
    },
    {
      "cell_type": "markdown",
      "source": [
        "Según los datos obtenidos por la media recortada, los fumadores pagan más que los que no fuman."
      ],
      "metadata": {
        "id": "TB3NddALw8jR"
      }
    },
    {
      "cell_type": "code",
      "source": [
        "# ¿Cuáles son las cuotas mínimas y máximas que las personan pagan dependiendo\n",
        "# del género y del número de hijos?\n",
        "dfn = pd.DataFrame(df[['sex', 'children', 'charges']])\n",
        "mc = pd.DataFrame(df['children']).max()\n",
        "dfm = dfn[dfn.sex == \"female\"]\n",
        "for i in range(0, int(mc) + 1):\n",
        "  dff = dfm[dfm.children == i]\n",
        "  print(\"El máximo pago para una mujer con: \" + str(i) + \" hijo(s), es: \" + str(int(pd.DataFrame(dff['charges']).max())))\n",
        "  print(\"El mínimo pago para una mujer con: \" + str(i) + \" hijo(s), es: \" + str(int(pd.DataFrame(dff['charges']).min())))\n",
        "print()\n",
        "dfm = dfn[dfn.sex == \"male\"]\n",
        "for i in range(0, int(mc) + 1):\n",
        "  dff = dfm[dfm.children == i]\n",
        "  print(\"El máximo pago para un hombre con: \" + str(i) + \" hijo(s), es: \" + str(int(pd.DataFrame(dff['charges']).max())))\n",
        "  print(\"El mínimo pago para un hombre con: \" + str(i) + \" hijo(s), es: \" + str(int(pd.DataFrame(dff['charges']).min())))"
      ],
      "metadata": {
        "id": "iQIHjrouGAa2",
        "colab": {
          "base_uri": "https://localhost:8080/"
        },
        "outputId": "3e1600ee-4a45-456f-9eef-b3641a7ea4d1"
      },
      "execution_count": 49,
      "outputs": [
        {
          "output_type": "stream",
          "name": "stdout",
          "text": [
            "El máximo pago para una mujer con: 0 hijo(s), es: 63770\n",
            "El mínimo pago para una mujer con: 0 hijo(s), es: 1607\n",
            "El máximo pago para una mujer con: 1 hijo(s), es: 58571\n",
            "El mínimo pago para una mujer con: 1 hijo(s), es: 2201\n",
            "El máximo pago para una mujer con: 2 hijo(s), es: 47305\n",
            "El mínimo pago para una mujer con: 2 hijo(s), es: 2801\n",
            "El máximo pago para una mujer con: 3 hijo(s), es: 46661\n",
            "El mínimo pago para una mujer con: 3 hijo(s), es: 4234\n",
            "El máximo pago para una mujer con: 4 hijo(s), es: 36580\n",
            "El mínimo pago para una mujer con: 4 hijo(s), es: 4561\n",
            "El máximo pago para una mujer con: 5 hijo(s), es: 19023\n",
            "El mínimo pago para una mujer con: 5 hijo(s), es: 4687\n",
            "\n",
            "El máximo pago para un hombre con: 0 hijo(s), es: 62592\n",
            "El mínimo pago para un hombre con: 0 hijo(s), es: 1121\n",
            "El máximo pago para un hombre con: 1 hijo(s), es: 51194\n",
            "El mínimo pago para un hombre con: 1 hijo(s), es: 1711\n",
            "El máximo pago para un hombre con: 2 hijo(s), es: 49577\n",
            "El mínimo pago para un hombre con: 2 hijo(s), es: 2304\n",
            "El máximo pago para un hombre con: 3 hijo(s), es: 60021\n",
            "El mínimo pago para un hombre con: 3 hijo(s), es: 3443\n",
            "El máximo pago para un hombre con: 4 hijo(s), es: 40182\n",
            "El mínimo pago para un hombre con: 4 hijo(s), es: 4504\n",
            "El máximo pago para un hombre con: 5 hijo(s), es: 14478\n",
            "El mínimo pago para un hombre con: 5 hijo(s), es: 4915\n"
          ]
        }
      ]
    },
    {
      "cell_type": "code",
      "source": [
        "# ¿Cuál es el índice de masa corporal promedio para hombre y mujeres dependiendo\n",
        "# región en la que viven y si son fumadores? ¿Impacta eso en la tarifa del \n",
        "# seguro?\n",
        "r = (df[\"region\"].unique())\n",
        "for i in range(len(r)):\n",
        "  dfm = pd.DataFrame(df[['region', 'sex', 'smoker', 'bmi', 'charges']])\n",
        "  dff = pd.DataFrame(df[['region', 'sex', 'smoker', 'bmi', 'charges']])\n",
        "  dfm = dfm[dfm.region == str(r[i])]\n",
        "  dfm = dfm[dfm.sex == \"male\"]\n",
        "  dfs = dfm[dfm.smoker == \"yes\"]\n",
        "  print(\"El IMC promedio es: \" + str(dfs['bmi'].mean()) + \" en la región de \" + str(r[i]) + \" para hombres fumadores\")\n",
        "  print(\"El indice de correlación entre dicho IMC y la rarifa del seguro es: \" + str(np.corrcoef(dfs.bmi, dfs.charges)[0,1]))\n",
        "  dfns = dfm[dfm.smoker == \"no\"]\n",
        "  print(\"El IMC promedio es: \" + str(dfns['bmi'].mean()) + \" en la región de \" + str(r[i]) + \" para hombres no fumadores\")\n",
        "  print(\"El indice de correlación entre dicho IMC y la rarifa del seguro es: \" + str(np.corrcoef(dfns.bmi, dfns.charges)[0,1]) + \"\\n\")\n",
        "  dff = dff[dff.sex == \"female\"]\n",
        "  dfs = dff[dff.smoker == \"yes\"]\n",
        "  print(\"El IMC promedio es: \" + str(dfs['bmi'].mean()) + \" en la región de \" + str(r[i]) + \" para mujeres fumadoras\")\n",
        "  print(\"El indice de correlación entre dicho IMC y la rarifa del seguro es: \" + str(np.corrcoef(dfs.bmi, dfs.charges)[0,1]))\n",
        "  dfns = dff[dff.smoker == \"no\"]\n",
        "  print(\"El IMC promedio es: \" + str(dfns['bmi'].mean()) + \" en la región de \" + str(r[i]) + \" para mujeres no fumadoras\")\n",
        "  print(\"El indice de correlación entre dicho IMC y la rarifa del seguro es: \" + str(np.corrcoef(dfns.bmi, dfns.charges)[0,1]) + \"\\n\")"
      ],
      "metadata": {
        "id": "cY6A6FrTGKLx",
        "colab": {
          "base_uri": "https://localhost:8080/"
        },
        "outputId": "6ac7716e-77b4-4290-e33d-cc4edfe85bd4"
      },
      "execution_count": 90,
      "outputs": [
        {
          "output_type": "stream",
          "name": "stdout",
          "text": [
            "El IMC promedio es: 31.502702702702706 en la región de southwest para hombres fumadores\n",
            "El indice de correlación entre dicho IMC y la rarifa del seguro es: 0.8074981496491216\n",
            "El IMC promedio es: 31.01984126984127 en la región de southwest para hombres no fumadores\n",
            "El indice de correlación entre dicho IMC y la rarifa del seguro es: 0.21547712992138815\n",
            "\n",
            "El IMC promedio es: 29.60826086956522 en la región de southwest para mujeres fumadoras\n",
            "El indice de correlación entre dicho IMC y la rarifa del seguro es: 0.8459098308542756\n",
            "El IMC promedio es: 30.539524680073125 en la región de southwest para mujeres no fumadoras\n",
            "El indice de correlación entre dicho IMC y la rarifa del seguro es: 0.07509254769921858\n",
            "\n",
            "El IMC promedio es: 33.65 en la región de southeast para hombres fumadores\n",
            "El indice de correlación entre dicho IMC y la rarifa del seguro es: 0.7456835213577657\n",
            "El IMC promedio es: 34.12955223880598 en la región de southeast para hombres no fumadores\n",
            "El indice de correlación entre dicho IMC y la rarifa del seguro es: -0.020337980126157017\n",
            "\n",
            "El IMC promedio es: 29.60826086956522 en la región de southeast para mujeres fumadoras\n",
            "El indice de correlación entre dicho IMC y la rarifa del seguro es: 0.8459098308542756\n",
            "El IMC promedio es: 30.539524680073125 en la región de southeast para mujeres no fumadoras\n",
            "El indice de correlación entre dicho IMC y la rarifa del seguro es: 0.07509254769921858\n",
            "\n",
            "El IMC promedio es: 29.98396551724138 en la región de northwest para hombres fumadores\n",
            "El indice de correlación entre dicho IMC y la rarifa del seguro es: 0.7841999970023117\n",
            "El IMC promedio es: 28.930378787878787 en la región de northwest para hombres no fumadores\n",
            "El indice de correlación entre dicho IMC y la rarifa del seguro es: 0.17401929708657152\n",
            "\n",
            "El IMC promedio es: 29.60826086956522 en la región de northwest para mujeres fumadoras\n",
            "El indice de correlación entre dicho IMC y la rarifa del seguro es: 0.8459098308542756\n",
            "El IMC promedio es: 30.539524680073125 en la región de northwest para mujeres no fumadoras\n",
            "El indice de correlación entre dicho IMC y la rarifa del seguro es: 0.07509254769921858\n",
            "\n",
            "El IMC promedio es: 29.56 en la región de northeast para hombres fumadores\n",
            "El indice de correlación entre dicho IMC y la rarifa del seguro es: 0.8025251380232742\n",
            "El IMC promedio es: 28.861759999999997 en la región de northeast para hombres no fumadores\n",
            "El indice de correlación entre dicho IMC y la rarifa del seguro es: 0.1837496217849303\n",
            "\n",
            "El IMC promedio es: 29.60826086956522 en la región de northeast para mujeres fumadoras\n",
            "El indice de correlación entre dicho IMC y la rarifa del seguro es: 0.8459098308542756\n",
            "El IMC promedio es: 30.539524680073125 en la región de northeast para mujeres no fumadoras\n",
            "El indice de correlación entre dicho IMC y la rarifa del seguro es: 0.07509254769921858\n",
            "\n"
          ]
        }
      ]
    },
    {
      "cell_type": "markdown",
      "source": [
        "Dados los coeficientes de correlación, podemos determinar que no existe una relación entre ambos parámetros, por lo que los datos solicitados no afectan a la tarifa del seguro."
      ],
      "metadata": {
        "id": "vr8xQ2TW9w1n"
      }
    }
  ]
}